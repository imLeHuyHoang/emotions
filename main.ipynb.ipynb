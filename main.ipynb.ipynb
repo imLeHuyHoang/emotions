{
  "cells": [
    {
      "cell_type": "code",
      "execution_count": 1,
      "metadata": {
        "_kg_hide-input": true,
        "_kg_hide-output": true,
        "colab": {
          "base_uri": "https://localhost:8080/"
        },
        "execution": {
          "iopub.execute_input": "2024-06-12T08:17:45.618019Z",
          "iopub.status.busy": "2024-06-12T08:17:45.617385Z",
          "iopub.status.idle": "2024-06-12T08:18:00.17045Z",
          "shell.execute_reply": "2024-06-12T08:18:00.16932Z",
          "shell.execute_reply.started": "2024-06-12T08:17:45.617987Z"
        },
        "id": "Gyo9SuK4vlR3",
        "outputId": "181ae636-ef96-46d1-d3b5-f12dba49b9c9",
        "scrolled": true,
        "trusted": true
      },
      "outputs": [
        {
          "name": "stdout",
          "output_type": "stream",
          "text": [
            "Collecting pandarallel\n",
            "  Downloading pandarallel-1.6.5.tar.gz (14 kB)\n",
            "  Preparing metadata (setup.py) ... \u001b[?25l\u001b[?25hdone\n",
            "Collecting dill>=0.3.1 (from pandarallel)\n",
            "  Downloading dill-0.3.8-py3-none-any.whl (116 kB)\n",
            "\u001b[2K     \u001b[90m━━━━━━━━━━━━━━━━━━━━━━━━━━━━━━━━━━━━━━━━\u001b[0m \u001b[32m116.3/116.3 kB\u001b[0m \u001b[31m3.9 MB/s\u001b[0m eta \u001b[36m0:00:00\u001b[0m\n",
            "\u001b[?25hRequirement already satisfied: pandas>=1 in /usr/local/lib/python3.10/dist-packages (from pandarallel) (2.0.3)\n",
            "Requirement already satisfied: psutil in /usr/local/lib/python3.10/dist-packages (from pandarallel) (5.9.5)\n",
            "Requirement already satisfied: python-dateutil>=2.8.2 in /usr/local/lib/python3.10/dist-packages (from pandas>=1->pandarallel) (2.8.2)\n",
            "Requirement already satisfied: pytz>=2020.1 in /usr/local/lib/python3.10/dist-packages (from pandas>=1->pandarallel) (2023.4)\n",
            "Requirement already satisfied: tzdata>=2022.1 in /usr/local/lib/python3.10/dist-packages (from pandas>=1->pandarallel) (2024.1)\n",
            "Requirement already satisfied: numpy>=1.21.0 in /usr/local/lib/python3.10/dist-packages (from pandas>=1->pandarallel) (1.25.2)\n",
            "Requirement already satisfied: six>=1.5 in /usr/local/lib/python3.10/dist-packages (from python-dateutil>=2.8.2->pandas>=1->pandarallel) (1.16.0)\n",
            "Building wheels for collected packages: pandarallel\n",
            "  Building wheel for pandarallel (setup.py) ... \u001b[?25l\u001b[?25hdone\n",
            "  Created wheel for pandarallel: filename=pandarallel-1.6.5-py3-none-any.whl size=16673 sha256=ac599636d2dab648b45074dbd8dc85a7871b4499cb1b82ca3a997bbc395142dc\n",
            "  Stored in directory: /root/.cache/pip/wheels/50/4f/1e/34e057bb868842209f1623f195b74fd7eda229308a7352d47f\n",
            "Successfully built pandarallel\n",
            "Installing collected packages: dill, pandarallel\n",
            "Successfully installed dill-0.3.8 pandarallel-1.6.5\n"
          ]
        }
      ],
      "source": [
        "!pip install pandarallel"
      ]
    },
    {
      "cell_type": "code",
      "execution_count": 2,
      "metadata": {
        "_cell_guid": "b1076dfc-b9ad-4769-8c92-a6c4dae69d19",
        "_kg_hide-input": true,
        "_kg_hide-output": false,
        "_uuid": "8f2839f25d086af736a60e9eeb907d3b93b6e0e5",
        "colab": {
          "base_uri": "https://localhost:8080/"
        },
        "execution": {
          "iopub.execute_input": "2024-06-12T08:18:00.173018Z",
          "iopub.status.busy": "2024-06-12T08:18:00.172654Z",
          "iopub.status.idle": "2024-06-12T08:18:00.20246Z",
          "shell.execute_reply": "2024-06-12T08:18:00.201484Z",
          "shell.execute_reply.started": "2024-06-12T08:18:00.172982Z"
        },
        "id": "GDv7unBIvlR5",
        "outputId": "644e6676-78c0-4ec1-df61-9d2669f773ea",
        "trusted": true
      },
      "outputs": [
        {
          "name": "stderr",
          "output_type": "stream",
          "text": [
            "[nltk_data] Downloading package wordnet to /root/nltk_data...\n",
            "[nltk_data] Downloading package stopwords to /root/nltk_data...\n",
            "[nltk_data]   Unzipping corpora/stopwords.zip.\n"
          ]
        }
      ],
      "source": [
        "import warnings\n",
        "\n",
        "warnings.filterwarnings(\"ignore\")\n",
        "\n",
        "import os\n",
        "import re\n",
        "import nltk\n",
        "\n",
        "nltk.download(\"wordnet\")\n",
        "nltk.download(\"stopwords\")\n",
        "import matplotlib.pylab as plt\n",
        "import numpy as np\n",
        "import pandas as pd\n",
        "import seaborn as sns\n",
        "import spacy\n",
        "import torch\n",
        "import torch.nn as nn\n",
        "import torch.nn.functional as F\n",
        "import torch.optim as optim\n",
        "import torchtext\n",
        "from nltk.corpus import stopwords\n",
        "from pandarallel import pandarallel\n",
        "from torch.utils.data import DataLoader, TensorDataset\n",
        "from torchtext import vocab\n",
        "from tqdm import tqdm"
      ]
    },
    {
      "cell_type": "code",
      "execution_count": 3,
      "metadata": {
        "colab": {
          "base_uri": "https://localhost:8080/"
        },
        "execution": {
          "iopub.execute_input": "2024-06-12T08:18:04.813638Z",
          "iopub.status.busy": "2024-06-12T08:18:04.813038Z",
          "iopub.status.idle": "2024-06-12T08:18:04.818664Z",
          "shell.execute_reply": "2024-06-12T08:18:04.817759Z",
          "shell.execute_reply.started": "2024-06-12T08:18:04.813608Z"
        },
        "id": "tt49oN2kvlR5",
        "outputId": "e571d40b-58ec-4ca6-8b58-9c649359aad8",
        "trusted": true
      },
      "outputs": [
        {
          "name": "stdout",
          "output_type": "stream",
          "text": [
            "INFO: Pandarallel will run on 1 workers.\n",
            "INFO: Pandarallel will use Memory file system to transfer data between the main process and workers.\n"
          ]
        }
      ],
      "source": [
        "pandarallel.initialize(progress_bar=True)"
      ]
    },
    {
      "cell_type": "code",
      "execution_count": 4,
      "metadata": {
        "execution": {
          "iopub.execute_input": "2024-06-12T08:18:05.233213Z",
          "iopub.status.busy": "2024-06-12T08:18:05.232443Z",
          "iopub.status.idle": "2024-06-12T08:18:05.353554Z",
          "shell.execute_reply": "2024-06-12T08:18:05.352785Z",
          "shell.execute_reply.started": "2024-06-12T08:18:05.233183Z"
        },
        "id": "BJN9ANmzvlR5",
        "trusted": true
      },
      "outputs": [],
      "source": [
        "train_data = pd.read_csv(\"/content/training.csv\")\n",
        "val_data = pd.read_csv(\"/content/validation.csv\")\n",
        "test_data = pd.read_csv(\"/content/test.csv\")"
      ]
    },
    {
      "cell_type": "code",
      "execution_count": 5,
      "metadata": {
        "execution": {
          "iopub.execute_input": "2024-06-12T08:18:05.847677Z",
          "iopub.status.busy": "2024-06-12T08:18:05.847268Z",
          "iopub.status.idle": "2024-06-12T08:18:05.867009Z",
          "shell.execute_reply": "2024-06-12T08:18:05.866058Z",
          "shell.execute_reply.started": "2024-06-12T08:18:05.847647Z"
        },
        "id": "LrRXGqD7vlR6",
        "trusted": true
      },
      "outputs": [],
      "source": [
        "class Preprocessor:\n",
        "    def __init__(\n",
        "        self,\n",
        "        max_length,\n",
        "        min_freq,\n",
        "        sos_token,\n",
        "        eos_token,\n",
        "        unk_token,\n",
        "        pad_token,\n",
        "        shuffle=False,\n",
        "        batch_size=16,\n",
        "        stopwords=[]\n",
        "    ):\n",
        "        self.shuffle = shuffle\n",
        "        self.batch_size = batch_size\n",
        "        self.max_length = max_length\n",
        "        self.min_freq = min_freq\n",
        "        self.sos_token = sos_token\n",
        "        self.eos_token = eos_token\n",
        "        self.unk_token = unk_token\n",
        "        self.pad_token = pad_token\n",
        "        self.stopwords = stopwords\n",
        "\n",
        "        self.special_tokens = [unk_token, pad_token, sos_token, eos_token]\n",
        "\n",
        "\n",
        "    def clean(self, data):\n",
        "        self.nlp = spacy.load(\"en_core_web_sm\")\n",
        "\n",
        "        lemmatize = lambda text: \" \".join(\n",
        "            x\n",
        "            for x in map(lambda token: token.lemma_, self.nlp(text))\n",
        "            if x not in self.stopwords\n",
        "        )\n",
        "\n",
        "        print(\"Lemmatizing...\")\n",
        "        data[\"clean_text\"] = data[\"text\"].parallel_apply(lemmatize).str.lower()\n",
        "        print(\"Lemmatizing Done!\")\n",
        "\n",
        "        return data\n",
        "\n",
        "    def tokenize(self, text, max_length, sos_token, eos_token):\n",
        "        tokens = [token.text for token in self.nlp.tokenizer(text)][:max_length]\n",
        "        en_tokens = [sos_token] + tokens + [eos_token]\n",
        "        return en_tokens\n",
        "\n",
        "    def convert_numerical(self, tokens):\n",
        "        en_ids = self.vocab.lookup_indices(tokens)\n",
        "        return en_ids\n",
        "\n",
        "    def fit(self, data):\n",
        "\n",
        "        data = self.clean(data)\n",
        "        print(\"Tokenizing Started...\")\n",
        "        data[\"tokens\"] = data[\"clean_text\"].map(\n",
        "            lambda x: self.tokenize(\n",
        "                str(x), self.max_length, self.sos_token, self.eos_token\n",
        "            )\n",
        "        )\n",
        "        print(\"Tokenizing Done!\")\n",
        "        self.vocab = vocab.build_vocab_from_iterator(\n",
        "            data[\"tokens\"], min_freq=self.min_freq, specials=self.special_tokens\n",
        "        )\n",
        "        unk_index = self.vocab[self.unk_token]\n",
        "        self.vocab.set_default_index(unk_index)\n",
        "\n",
        "    def pad_sequences(self, sequences, pad_token):\n",
        "        max_seq_len = self.max_length + 2\n",
        "\n",
        "        padded_sequences = [\n",
        "            seq + [pad_token] * (max_seq_len - len(seq)) for seq in sequences\n",
        "        ]\n",
        "        return padded_sequences\n",
        "\n",
        "    def transform(self, data, return_float=True):\n",
        "        if \"clean_text\" not in data.columns:\n",
        "            data = self.clean(data)\n",
        "        if \"tokens\" not in data.columns:\n",
        "            data[\"tokens\"] = data[\"clean_text\"].map(\n",
        "                lambda x: self.tokenize(\n",
        "                    str(x), self.max_length, self.sos_token, self.eos_token\n",
        "                )\n",
        "            )\n",
        "\n",
        "        data[\"numerical_tokens\"] = data.tokens.map(self.convert_numerical)\n",
        "\n",
        "     \n",
        "        padded_sequences = self.pad_sequences(\n",
        "            data[\"numerical_tokens\"].to_list(), self.vocab[self.pad_token]\n",
        "        )\n",
        "\n",
        "        X = np.array(padded_sequences)\n",
        "        y = data.label.to_numpy()\n",
        "\n",
        "        if return_float:\n",
        "            X_tensor = torch.tensor(X, dtype=torch.float32)\n",
        "            y_tensor = torch.tensor(y, dtype=torch.float32)\n",
        "        else:\n",
        "            X_tensor = torch.tensor(X, dtype=torch.long)\n",
        "            y_tensor = torch.tensor(y, dtype=torch.long)\n",
        "\n",
        "        iterable_data = DataLoader(\n",
        "            dataset=TensorDataset(X_tensor, y_tensor),\n",
        "            batch_size=self.batch_size,\n",
        "            shuffle=self.shuffle,\n",
        "        )\n",
        "\n",
        "        return iterable_data"
      ]
    },
    {
      "cell_type": "code",
      "execution_count": 6,
      "metadata": {
        "colab": {
          "base_uri": "https://localhost:8080/",
          "height": 287,
          "referenced_widgets": [
            "95f0f8c11f0e40c4acfe6aab22b5b928",
            "6c57a277bc664bd495b8c8dc724b98b0",
            "237f491921b84768b86851dcf0b22a92",
            "9f686ba907a7470ab0a1ce775aed54fc",
            "ad8f26a3677445188cae17d4df0c37b4",
            "99d8f228a97e4530b8eec9a590338e85",
            "bb687c6408ee484aba295aeaaea43da2",
            "d4d0d7cceeb74eb7917339bac4b20044",
            "d38950b8b4cf401a93b7b085874e4fc9",
            "f2697bca5f5f4aec94c5e7a119aef7c4",
            "5076d45977644dc08af4b3a8458b7ba0",
            "78a622bd8cc1461ba04172ec89dc4b7c",
            "439f70aef4474a9ca59d43cf57b2cf34",
            "7f78d47e59b34747a310f82ab1cd981c",
            "3d0ac2fea24b46ba91a34f4fadbe8072",
            "539b4a3bbd3846a7a51379e909530e17",
            "99fc6d125453439bafec21cd3c68c413",
            "8c84ac25d7f4439ba31fcfcbb1fedd1c",
            "38c50bef1e384c57b1991b6ef7d821ca",
            "4d2960b2c1a14e1a8fbe03cbbef9be97",
            "f1144abe1e8341dfa085017dc9507d94",
            "93720f39e084469597aa6a2caaa37ada",
            "5c236d4a890c4ab6a79c327f8f0ab01b",
            "d7ecac9c492a4af9b260b942e65bed76",
            "ca4d1ab4ad6443aeaae1f5abc375f6e7",
            "68b0fc44d0a440dbaec87105579845c6",
            "e69f0c7415b042c7b3560be22bbe3a6c",
            "619200dfa1504755b7b2fbf506f25744",
            "8db7e649014a421ca430108f0ca28a8b",
            "8f52802c44dd4003ac16bdb45c5139b8"
          ]
        },
        "execution": {
          "iopub.execute_input": "2024-06-12T08:18:06.447849Z",
          "iopub.status.busy": "2024-06-12T08:18:06.44713Z",
          "iopub.status.idle": "2024-06-12T08:19:41.030049Z",
          "shell.execute_reply": "2024-06-12T08:19:41.028988Z",
          "shell.execute_reply.started": "2024-06-12T08:18:06.447816Z"
        },
        "id": "QUXZx6ZDvlR6",
        "outputId": "0d6ff948-e652-4fc6-e3d4-b7ad78211ad1",
        "scrolled": true,
        "trusted": true
      },
      "outputs": [
        {
          "name": "stdout",
          "output_type": "stream",
          "text": [
            "Lemmatizing...\n"
          ]
        },
        {
          "data": {
            "application/vnd.jupyter.widget-view+json": {
              "model_id": "95f0f8c11f0e40c4acfe6aab22b5b928",
              "version_major": 2,
              "version_minor": 0
            },
            "text/plain": [
              "VBox(children=(HBox(children=(IntProgress(value=0, description='0.00%', max=16000), Label(value='0 / 16000')))…"
            ]
          },
          "metadata": {},
          "output_type": "display_data"
        },
        {
          "name": "stdout",
          "output_type": "stream",
          "text": [
            "Lemmatizing Done!\n",
            "Tokenizing Started...\n",
            "Tokenizing Done!\n",
            "Lemmatizing...\n"
          ]
        },
        {
          "data": {
            "application/vnd.jupyter.widget-view+json": {
              "model_id": "5076d45977644dc08af4b3a8458b7ba0",
              "version_major": 2,
              "version_minor": 0
            },
            "text/plain": [
              "VBox(children=(HBox(children=(IntProgress(value=0, description='0.00%', max=2000), Label(value='0 / 2000'))),)…"
            ]
          },
          "metadata": {},
          "output_type": "display_data"
        },
        {
          "name": "stdout",
          "output_type": "stream",
          "text": [
            "Lemmatizing Done!\n",
            "Lemmatizing...\n"
          ]
        },
        {
          "data": {
            "application/vnd.jupyter.widget-view+json": {
              "model_id": "f1144abe1e8341dfa085017dc9507d94",
              "version_major": 2,
              "version_minor": 0
            },
            "text/plain": [
              "VBox(children=(HBox(children=(IntProgress(value=0, description='0.00%', max=2000), Label(value='0 / 2000'))),)…"
            ]
          },
          "metadata": {},
          "output_type": "display_data"
        },
        {
          "name": "stdout",
          "output_type": "stream",
          "text": [
            "Lemmatizing Done!\n",
            "CPU times: user 15.4 s, sys: 1.36 s, total: 16.8 s\n",
            "Wall time: 4min 32s\n"
          ]
        }
      ],
      "source": [
        "%%time\n",
        "\n",
        "processor = Preprocessor(\n",
        "    shuffle=True,\n",
        "    batch_size=32,\n",
        "    max_length=40,\n",
        "    min_freq=2,\n",
        "    sos_token=\"<sos>\",\n",
        "    eos_token=\"<eos>\",\n",
        "    unk_token=\"<unk>\",\n",
        "    pad_token=\"<pad>\",\n",
        "   \n",
        ")\n",
        "\n",
        "processor.fit(train_data)\n",
        "\n",
        "\n",
        "train_dataset = processor.transform(train_data)\n",
        "val_dataset = processor.transform(val_data)\n",
        "test_dataset = processor.transform(test_data)"
      ]
    },
    {
      "cell_type": "code",
      "execution_count": 7,
      "metadata": {
        "execution": {
          "iopub.execute_input": "2024-06-12T08:19:50.836258Z",
          "iopub.status.busy": "2024-06-12T08:19:50.835412Z",
          "iopub.status.idle": "2024-06-12T08:19:50.840253Z",
          "shell.execute_reply": "2024-06-12T08:19:50.839345Z",
          "shell.execute_reply.started": "2024-06-12T08:19:50.836226Z"
        },
        "id": "bMD3bJIfvlR6",
        "trusted": true
      },
      "outputs": [],
      "source": [
        "device = \"cuda\" if torch.cuda.is_available() else \"cpu\""
      ]
    },
    {
      "cell_type": "code",
      "execution_count": 8,
      "metadata": {
        "execution": {
          "iopub.execute_input": "2024-06-12T08:19:51.390601Z",
          "iopub.status.busy": "2024-06-12T08:19:51.390204Z",
          "iopub.status.idle": "2024-06-12T08:19:51.408229Z",
          "shell.execute_reply": "2024-06-12T08:19:51.407337Z",
          "shell.execute_reply.started": "2024-06-12T08:19:51.390573Z"
        },
        "id": "qUoV_hlTvlR7",
        "trusted": true
      },
      "outputs": [],
      "source": [
        "def accuracy_fn(y_true, y_pred):\n",
        "    correct = (\n",
        "        torch.eq(y_true, y_pred).sum().item()\n",
        "    )\n",
        "    acc = (correct / len(y_pred)) * 100\n",
        "    return acc\n",
        "\n",
        "\n",
        "def evaluate(model, data_loader, device):\n",
        "\n",
        "    loss, acc = 0, 0\n",
        "    model.eval()\n",
        "    with torch.inference_mode():\n",
        "        for X, y in data_loader:\n",
        "\n",
        "            X = X.to(device)\n",
        "            y = y.type(torch.LongTensor)\n",
        "            y = y.to(device)\n",
        "            y_pred = model(X)\n",
        "\n",
        "            y_pred_class = nn.functional.softmax(y_pred, dim=1).argmax(dim=1)\n",
        "\n",
        "            loss += criterion(y_pred, y).item()\n",
        "            acc += accuracy_fn(y, y_pred_class)\n",
        "\n",
        "    acc /= len(data_loader)\n",
        "    loss /= len(data_loader)\n",
        "\n",
        "    return acc, loss\n",
        "\n",
        "\n",
        "def trainer(model, device, train_data, epochs, criterion, optimizer, val_data=None):\n",
        "\n",
        "    history = {\n",
        "        \"train_loss\": [],\n",
        "        \"train_acc\": [],\n",
        "        \"epoch\": [],\n",
        "    }\n",
        "\n",
        "    if val_data:\n",
        "        history[\"val_loss\"] = []\n",
        "        history[\"val_acc\"] = []\n",
        "\n",
        "    model = model.to(device)\n",
        "\n",
        "    for epoch in range(1, epochs + 1):\n",
        "        model.train()\n",
        "\n",
        "        for batch, (X, y) in tqdm(enumerate(train_data), total=len(train_data)):\n",
        "\n",
        "            X = X.to(device)\n",
        "            y = y.type(torch.LongTensor)\n",
        "            y = y.to(device)\n",
        "            y_pred = model(X)\n",
        "            y_pred_class = nn.functional.softmax(y_pred, dim=1).argmax(dim=1)\n",
        "\n",
        "            loss = criterion(y_pred, y)\n",
        "            optimizer.zero_grad()\n",
        "            loss.backward()\n",
        "            optimizer.step()\n",
        "\n",
        "        train_acc, train_loss = evaluate(model, train_data, device)\n",
        "        if val_data:\n",
        "            val_acc, val_loss = evaluate(model, val_data, device)\n",
        "\n",
        "        for key in history.keys():\n",
        "            history[key].append(locals()[key])\n",
        "\n",
        "        print(f\"Epoch: {epoch}/{epochs}\")\n",
        "        print(f\"Training ---|  Accuracy: {train_acc:.2f} Loss: {train_loss:.5f}\")\n",
        "        if val_data:\n",
        "            print(f\"Validation ---|  Accuracy: {val_acc:.2f} Loss: {val_loss:.5f}\")\n",
        "\n",
        "    return history\n",
        "\n",
        "\n",
        "def plot(df):\n",
        "    plt.figure(figsize=(12, 6))\n",
        "\n",
        "\n",
        "    plt.subplot(1, 2, 1)\n",
        "    plt.plot(df[\"epoch\"], df[\"train_loss\"], label=\"Train Loss\")\n",
        "    plt.plot(df[\"epoch\"], df[\"val_loss\"], label=\"Validation Loss\")\n",
        "    plt.xlabel(\"Epoch\")\n",
        "    plt.ylabel(\"Loss\")\n",
        "    plt.title(\"Train and Validation Loss\")\n",
        "    plt.legend()\n",
        "\n",
        " \n",
        "    plt.subplot(1, 2, 2)\n",
        "    plt.plot(df[\"epoch\"], df[\"train_acc\"], label=\"Train Accuracy\")\n",
        "    plt.plot(df[\"epoch\"], df[\"val_acc\"], label=\"Validation Accuracy\")\n",
        "    plt.xlabel(\"Epoch\")\n",
        "    plt.ylabel(\"Accuracy (%)\")\n",
        "    plt.title(\"Train and Validation Accuracy\")\n",
        "    plt.legend()\n",
        "\n",
        "    plt.tight_layout()\n",
        "    plt.show()"
      ]
    },
    {
      "cell_type": "markdown",
      "metadata": {
        "id": "dZ98nDtNvlR7"
      },
      "source": [
        "## Fully Connected Network"
      ]
    },
    {
      "cell_type": "code",
      "execution_count": 9,
      "metadata": {
        "colab": {
          "base_uri": "https://localhost:8080/"
        },
        "execution": {
          "iopub.execute_input": "2024-06-12T08:19:54.078916Z",
          "iopub.status.busy": "2024-06-12T08:19:54.078539Z",
          "iopub.status.idle": "2024-06-12T08:19:54.084734Z",
          "shell.execute_reply": "2024-06-12T08:19:54.083869Z",
          "shell.execute_reply.started": "2024-06-12T08:19:54.078889Z"
        },
        "id": "arAuH12jvlR8",
        "outputId": "43a856cf-dcf7-4ae6-89d3-aff924486a64",
        "trusted": true
      },
      "outputs": [
        {
          "data": {
            "text/plain": [
              "5890"
            ]
          },
          "execution_count": 9,
          "metadata": {},
          "output_type": "execute_result"
        }
      ],
      "source": [
        "len(processor.vocab)"
      ]
    },
    {
      "cell_type": "code",
      "execution_count": 10,
      "metadata": {
        "colab": {
          "base_uri": "https://localhost:8080/"
        },
        "execution": {
          "iopub.execute_input": "2024-06-12T08:19:56.462403Z",
          "iopub.status.busy": "2024-06-12T08:19:56.462021Z",
          "iopub.status.idle": "2024-06-12T08:20:45.280932Z",
          "shell.execute_reply": "2024-06-12T08:20:45.279953Z",
          "shell.execute_reply.started": "2024-06-12T08:19:56.462372Z"
        },
        "id": "nL0aIl7UvlR8",
        "outputId": "fe180324-93b7-49e0-dddb-8d83cb7e5089",
        "scrolled": true,
        "trusted": true
      },
      "outputs": [
        {
          "name": "stderr",
          "output_type": "stream",
          "text": [
            "100%|██████████| 500/500 [00:01<00:00, 459.16it/s]\n"
          ]
        },
        {
          "name": "stdout",
          "output_type": "stream",
          "text": [
            "Epoch: 1/40\n",
            "Training ---|  Accuracy: 26.61 Loss: 11.14318\n",
            "Validation ---|  Accuracy: 24.40 Loss: 11.19545\n"
          ]
        },
        {
          "name": "stderr",
          "output_type": "stream",
          "text": [
            "100%|██████████| 500/500 [00:01<00:00, 340.39it/s]\n"
          ]
        },
        {
          "name": "stdout",
          "output_type": "stream",
          "text": [
            "Epoch: 2/40\n",
            "Training ---|  Accuracy: 24.80 Loss: 4.26438\n",
            "Validation ---|  Accuracy: 22.27 Loss: 4.55129\n"
          ]
        },
        {
          "name": "stderr",
          "output_type": "stream",
          "text": [
            "100%|██████████| 500/500 [00:01<00:00, 349.64it/s]\n"
          ]
        },
        {
          "name": "stdout",
          "output_type": "stream",
          "text": [
            "Epoch: 3/40\n",
            "Training ---|  Accuracy: 20.38 Loss: 2.82235\n",
            "Validation ---|  Accuracy: 18.55 Loss: 2.92112\n"
          ]
        },
        {
          "name": "stderr",
          "output_type": "stream",
          "text": [
            "100%|██████████| 500/500 [00:00<00:00, 574.33it/s]\n"
          ]
        },
        {
          "name": "stdout",
          "output_type": "stream",
          "text": [
            "Epoch: 4/40\n",
            "Training ---|  Accuracy: 28.77 Loss: 2.25070\n",
            "Validation ---|  Accuracy: 27.13 Loss: 2.33104\n"
          ]
        },
        {
          "name": "stderr",
          "output_type": "stream",
          "text": [
            "100%|██████████| 500/500 [00:00<00:00, 630.12it/s]\n"
          ]
        },
        {
          "name": "stdout",
          "output_type": "stream",
          "text": [
            "Epoch: 5/40\n",
            "Training ---|  Accuracy: 28.64 Loss: 1.96134\n",
            "Validation ---|  Accuracy: 26.59 Loss: 2.04297\n"
          ]
        },
        {
          "name": "stderr",
          "output_type": "stream",
          "text": [
            "100%|██████████| 500/500 [00:00<00:00, 573.04it/s]\n"
          ]
        },
        {
          "name": "stdout",
          "output_type": "stream",
          "text": [
            "Epoch: 6/40\n",
            "Training ---|  Accuracy: 30.54 Loss: 1.99673\n",
            "Validation ---|  Accuracy: 27.33 Loss: 1.97576\n"
          ]
        },
        {
          "name": "stderr",
          "output_type": "stream",
          "text": [
            "100%|██████████| 500/500 [00:00<00:00, 581.62it/s]\n"
          ]
        },
        {
          "name": "stdout",
          "output_type": "stream",
          "text": [
            "Epoch: 7/40\n",
            "Training ---|  Accuracy: 30.52 Loss: 1.76600\n",
            "Validation ---|  Accuracy: 28.92 Loss: 1.77104\n"
          ]
        },
        {
          "name": "stderr",
          "output_type": "stream",
          "text": [
            "100%|██████████| 500/500 [00:00<00:00, 562.95it/s]\n"
          ]
        },
        {
          "name": "stdout",
          "output_type": "stream",
          "text": [
            "Epoch: 8/40\n",
            "Training ---|  Accuracy: 32.91 Loss: 1.67309\n",
            "Validation ---|  Accuracy: 31.15 Loss: 1.68236\n"
          ]
        },
        {
          "name": "stderr",
          "output_type": "stream",
          "text": [
            "100%|██████████| 500/500 [00:00<00:00, 591.67it/s]\n"
          ]
        },
        {
          "name": "stdout",
          "output_type": "stream",
          "text": [
            "Epoch: 9/40\n",
            "Training ---|  Accuracy: 32.62 Loss: 1.64416\n",
            "Validation ---|  Accuracy: 30.36 Loss: 1.67303\n"
          ]
        },
        {
          "name": "stderr",
          "output_type": "stream",
          "text": [
            "100%|██████████| 500/500 [00:00<00:00, 594.84it/s]\n"
          ]
        },
        {
          "name": "stdout",
          "output_type": "stream",
          "text": [
            "Epoch: 10/40\n",
            "Training ---|  Accuracy: 33.61 Loss: 1.60094\n",
            "Validation ---|  Accuracy: 34.28 Loss: 1.62836\n"
          ]
        },
        {
          "name": "stderr",
          "output_type": "stream",
          "text": [
            "100%|██████████| 500/500 [00:00<00:00, 610.52it/s]\n"
          ]
        },
        {
          "name": "stdout",
          "output_type": "stream",
          "text": [
            "Epoch: 11/40\n",
            "Training ---|  Accuracy: 33.86 Loss: 1.58257\n",
            "Validation ---|  Accuracy: 34.47 Loss: 1.61186\n"
          ]
        },
        {
          "name": "stderr",
          "output_type": "stream",
          "text": [
            "100%|██████████| 500/500 [00:01<00:00, 371.84it/s]\n"
          ]
        },
        {
          "name": "stdout",
          "output_type": "stream",
          "text": [
            "Epoch: 12/40\n",
            "Training ---|  Accuracy: 34.52 Loss: 1.56486\n",
            "Validation ---|  Accuracy: 34.92 Loss: 1.60539\n"
          ]
        },
        {
          "name": "stderr",
          "output_type": "stream",
          "text": [
            "100%|██████████| 500/500 [00:01<00:00, 330.15it/s]\n"
          ]
        },
        {
          "name": "stdout",
          "output_type": "stream",
          "text": [
            "Epoch: 13/40\n",
            "Training ---|  Accuracy: 34.52 Loss: 1.55477\n",
            "Validation ---|  Accuracy: 33.63 Loss: 1.60833\n"
          ]
        },
        {
          "name": "stderr",
          "output_type": "stream",
          "text": [
            "100%|██████████| 500/500 [00:00<00:00, 501.18it/s]\n"
          ]
        },
        {
          "name": "stdout",
          "output_type": "stream",
          "text": [
            "Epoch: 14/40\n",
            "Training ---|  Accuracy: 34.69 Loss: 1.55229\n",
            "Validation ---|  Accuracy: 33.83 Loss: 1.60792\n"
          ]
        },
        {
          "name": "stderr",
          "output_type": "stream",
          "text": [
            "100%|██████████| 500/500 [00:00<00:00, 640.66it/s]\n"
          ]
        },
        {
          "name": "stdout",
          "output_type": "stream",
          "text": [
            "Epoch: 15/40\n",
            "Training ---|  Accuracy: 34.49 Loss: 1.55606\n",
            "Validation ---|  Accuracy: 33.83 Loss: 1.62823\n"
          ]
        },
        {
          "name": "stderr",
          "output_type": "stream",
          "text": [
            "100%|██████████| 500/500 [00:00<00:00, 562.91it/s]\n"
          ]
        },
        {
          "name": "stdout",
          "output_type": "stream",
          "text": [
            "Epoch: 16/40\n",
            "Training ---|  Accuracy: 34.64 Loss: 1.55385\n",
            "Validation ---|  Accuracy: 34.57 Loss: 1.60636\n"
          ]
        },
        {
          "name": "stderr",
          "output_type": "stream",
          "text": [
            "100%|██████████| 500/500 [00:00<00:00, 603.04it/s]\n"
          ]
        },
        {
          "name": "stdout",
          "output_type": "stream",
          "text": [
            "Epoch: 17/40\n",
            "Training ---|  Accuracy: 34.47 Loss: 1.55077\n",
            "Validation ---|  Accuracy: 34.38 Loss: 1.61776\n"
          ]
        },
        {
          "name": "stderr",
          "output_type": "stream",
          "text": [
            "100%|██████████| 500/500 [00:00<00:00, 554.46it/s]\n"
          ]
        },
        {
          "name": "stdout",
          "output_type": "stream",
          "text": [
            "Epoch: 18/40\n",
            "Training ---|  Accuracy: 34.49 Loss: 1.55053\n",
            "Validation ---|  Accuracy: 34.67 Loss: 1.61853\n"
          ]
        },
        {
          "name": "stderr",
          "output_type": "stream",
          "text": [
            "100%|██████████| 500/500 [00:00<00:00, 612.49it/s]\n"
          ]
        },
        {
          "name": "stdout",
          "output_type": "stream",
          "text": [
            "Epoch: 19/40\n",
            "Training ---|  Accuracy: 34.59 Loss: 1.55229\n",
            "Validation ---|  Accuracy: 33.88 Loss: 1.62903\n"
          ]
        },
        {
          "name": "stderr",
          "output_type": "stream",
          "text": [
            "100%|██████████| 500/500 [00:00<00:00, 579.68it/s]\n"
          ]
        },
        {
          "name": "stdout",
          "output_type": "stream",
          "text": [
            "Epoch: 20/40\n",
            "Training ---|  Accuracy: 34.17 Loss: 1.56271\n",
            "Validation ---|  Accuracy: 34.42 Loss: 1.63856\n"
          ]
        },
        {
          "name": "stderr",
          "output_type": "stream",
          "text": [
            "100%|██████████| 500/500 [00:00<00:00, 528.07it/s]\n"
          ]
        },
        {
          "name": "stdout",
          "output_type": "stream",
          "text": [
            "Epoch: 21/40\n",
            "Training ---|  Accuracy: 34.36 Loss: 1.55490\n",
            "Validation ---|  Accuracy: 34.03 Loss: 1.63792\n"
          ]
        },
        {
          "name": "stderr",
          "output_type": "stream",
          "text": [
            "100%|██████████| 500/500 [00:01<00:00, 420.19it/s]\n"
          ]
        },
        {
          "name": "stdout",
          "output_type": "stream",
          "text": [
            "Epoch: 22/40\n",
            "Training ---|  Accuracy: 34.29 Loss: 1.55341\n",
            "Validation ---|  Accuracy: 34.67 Loss: 1.62514\n"
          ]
        },
        {
          "name": "stderr",
          "output_type": "stream",
          "text": [
            "100%|██████████| 500/500 [00:01<00:00, 358.69it/s]\n"
          ]
        },
        {
          "name": "stdout",
          "output_type": "stream",
          "text": [
            "Epoch: 23/40\n",
            "Training ---|  Accuracy: 34.28 Loss: 1.55483\n",
            "Validation ---|  Accuracy: 34.38 Loss: 1.61599\n"
          ]
        },
        {
          "name": "stderr",
          "output_type": "stream",
          "text": [
            "100%|██████████| 500/500 [00:01<00:00, 489.10it/s]\n"
          ]
        },
        {
          "name": "stdout",
          "output_type": "stream",
          "text": [
            "Epoch: 24/40\n",
            "Training ---|  Accuracy: 34.58 Loss: 1.54819\n",
            "Validation ---|  Accuracy: 34.72 Loss: 1.64532\n"
          ]
        },
        {
          "name": "stderr",
          "output_type": "stream",
          "text": [
            "100%|██████████| 500/500 [00:00<00:00, 582.41it/s]\n"
          ]
        },
        {
          "name": "stdout",
          "output_type": "stream",
          "text": [
            "Epoch: 25/40\n",
            "Training ---|  Accuracy: 34.49 Loss: 1.55169\n",
            "Validation ---|  Accuracy: 34.57 Loss: 1.61613\n"
          ]
        },
        {
          "name": "stderr",
          "output_type": "stream",
          "text": [
            "100%|██████████| 500/500 [00:00<00:00, 612.49it/s]\n"
          ]
        },
        {
          "name": "stdout",
          "output_type": "stream",
          "text": [
            "Epoch: 26/40\n",
            "Training ---|  Accuracy: 34.34 Loss: 1.55584\n",
            "Validation ---|  Accuracy: 34.47 Loss: 1.63851\n"
          ]
        },
        {
          "name": "stderr",
          "output_type": "stream",
          "text": [
            "100%|██████████| 500/500 [00:00<00:00, 575.26it/s]\n"
          ]
        },
        {
          "name": "stdout",
          "output_type": "stream",
          "text": [
            "Epoch: 27/40\n",
            "Training ---|  Accuracy: 34.41 Loss: 1.55390\n",
            "Validation ---|  Accuracy: 34.97 Loss: 1.63048\n"
          ]
        },
        {
          "name": "stderr",
          "output_type": "stream",
          "text": [
            "100%|██████████| 500/500 [00:01<00:00, 391.11it/s]\n"
          ]
        },
        {
          "name": "stdout",
          "output_type": "stream",
          "text": [
            "Epoch: 28/40\n",
            "Training ---|  Accuracy: 34.44 Loss: 1.55813\n",
            "Validation ---|  Accuracy: 35.17 Loss: 1.63218\n"
          ]
        },
        {
          "name": "stderr",
          "output_type": "stream",
          "text": [
            "100%|██████████| 500/500 [00:01<00:00, 332.59it/s]\n"
          ]
        },
        {
          "name": "stdout",
          "output_type": "stream",
          "text": [
            "Epoch: 29/40\n",
            "Training ---|  Accuracy: 34.33 Loss: 1.56274\n",
            "Validation ---|  Accuracy: 34.42 Loss: 1.66965\n"
          ]
        },
        {
          "name": "stderr",
          "output_type": "stream",
          "text": [
            "100%|██████████| 500/500 [00:00<00:00, 568.39it/s]\n"
          ]
        },
        {
          "name": "stdout",
          "output_type": "stream",
          "text": [
            "Epoch: 30/40\n",
            "Training ---|  Accuracy: 34.68 Loss: 1.54489\n",
            "Validation ---|  Accuracy: 34.87 Loss: 1.63725\n"
          ]
        },
        {
          "name": "stderr",
          "output_type": "stream",
          "text": [
            "100%|██████████| 500/500 [00:01<00:00, 497.57it/s]\n"
          ]
        },
        {
          "name": "stdout",
          "output_type": "stream",
          "text": [
            "Epoch: 31/40\n",
            "Training ---|  Accuracy: 34.69 Loss: 1.54783\n",
            "Validation ---|  Accuracy: 35.27 Loss: 1.62640\n"
          ]
        },
        {
          "name": "stderr",
          "output_type": "stream",
          "text": [
            "100%|██████████| 500/500 [00:01<00:00, 377.99it/s]\n"
          ]
        },
        {
          "name": "stdout",
          "output_type": "stream",
          "text": [
            "Epoch: 32/40\n",
            "Training ---|  Accuracy: 34.72 Loss: 1.54361\n",
            "Validation ---|  Accuracy: 35.17 Loss: 1.62456\n"
          ]
        },
        {
          "name": "stderr",
          "output_type": "stream",
          "text": [
            "100%|██████████| 500/500 [00:01<00:00, 450.62it/s]\n"
          ]
        },
        {
          "name": "stdout",
          "output_type": "stream",
          "text": [
            "Epoch: 33/40\n",
            "Training ---|  Accuracy: 34.73 Loss: 1.54415\n",
            "Validation ---|  Accuracy: 35.22 Loss: 1.64188\n"
          ]
        },
        {
          "name": "stderr",
          "output_type": "stream",
          "text": [
            "100%|██████████| 500/500 [00:00<00:00, 593.29it/s]\n"
          ]
        },
        {
          "name": "stdout",
          "output_type": "stream",
          "text": [
            "Epoch: 34/40\n",
            "Training ---|  Accuracy: 34.78 Loss: 1.54858\n",
            "Validation ---|  Accuracy: 34.77 Loss: 1.64812\n"
          ]
        },
        {
          "name": "stderr",
          "output_type": "stream",
          "text": [
            "100%|██████████| 500/500 [00:00<00:00, 631.73it/s]\n"
          ]
        },
        {
          "name": "stdout",
          "output_type": "stream",
          "text": [
            "Epoch: 35/40\n",
            "Training ---|  Accuracy: 34.77 Loss: 1.55029\n",
            "Validation ---|  Accuracy: 34.62 Loss: 1.66924\n"
          ]
        },
        {
          "name": "stderr",
          "output_type": "stream",
          "text": [
            "100%|██████████| 500/500 [00:00<00:00, 628.24it/s]\n"
          ]
        },
        {
          "name": "stdout",
          "output_type": "stream",
          "text": [
            "Epoch: 36/40\n",
            "Training ---|  Accuracy: 34.91 Loss: 1.54007\n",
            "Validation ---|  Accuracy: 35.22 Loss: 1.64755\n"
          ]
        },
        {
          "name": "stderr",
          "output_type": "stream",
          "text": [
            "100%|██████████| 500/500 [00:00<00:00, 604.68it/s]\n"
          ]
        },
        {
          "name": "stdout",
          "output_type": "stream",
          "text": [
            "Epoch: 37/40\n",
            "Training ---|  Accuracy: 34.69 Loss: 1.54397\n",
            "Validation ---|  Accuracy: 35.12 Loss: 1.64962\n"
          ]
        },
        {
          "name": "stderr",
          "output_type": "stream",
          "text": [
            "100%|██████████| 500/500 [00:00<00:00, 562.28it/s]\n"
          ]
        },
        {
          "name": "stdout",
          "output_type": "stream",
          "text": [
            "Epoch: 38/40\n",
            "Training ---|  Accuracy: 34.73 Loss: 1.54630\n",
            "Validation ---|  Accuracy: 35.07 Loss: 1.66356\n"
          ]
        },
        {
          "name": "stderr",
          "output_type": "stream",
          "text": [
            "100%|██████████| 500/500 [00:00<00:00, 652.02it/s]\n"
          ]
        },
        {
          "name": "stdout",
          "output_type": "stream",
          "text": [
            "Epoch: 39/40\n",
            "Training ---|  Accuracy: 34.77 Loss: 1.54607\n",
            "Validation ---|  Accuracy: 34.47 Loss: 1.66240\n"
          ]
        },
        {
          "name": "stderr",
          "output_type": "stream",
          "text": [
            "100%|██████████| 500/500 [00:00<00:00, 622.52it/s]\n"
          ]
        },
        {
          "name": "stdout",
          "output_type": "stream",
          "text": [
            "Epoch: 40/40\n",
            "Training ---|  Accuracy: 34.84 Loss: 1.54473\n",
            "Validation ---|  Accuracy: 34.82 Loss: 1.66880\n",
            "CPU times: user 52.7 s, sys: 1.04 s, total: 53.8 s\n",
            "Wall time: 56 s\n"
          ]
        }
      ],
      "source": [
        "%%time\n",
        "\n",
        "\n",
        "class ANN(nn.Module):\n",
        "    def __init__(self, input_size, n_class):\n",
        "        super().__init__()\n",
        "\n",
        "        self.fc1 = nn.Linear(input_size, 64)\n",
        "        self.fc2 = nn.Linear(64, n_class)\n",
        "\n",
        "    def forward(self, features):\n",
        "\n",
        "        out = self.fc2(F.relu(self.fc1(features)))\n",
        "\n",
        "        return out\n",
        "\n",
        "\n",
        "model = ANN(input_size=42, n_class=6)\n",
        "\n",
        "criterion = nn.CrossEntropyLoss()\n",
        "optimizer = torch.optim.Adam(params=model.parameters(), lr=0.001)\n",
        "\n",
        "\n",
        "history = trainer(\n",
        "    model,\n",
        "    epochs=40,\n",
        "    device=device,\n",
        "    train_data=train_dataset,\n",
        "    val_data=val_dataset,\n",
        "    criterion=criterion,\n",
        "    optimizer=optimizer,\n",
        ")"
      ]
    },
    {
      "cell_type": "code",
      "execution_count": 11,
      "metadata": {
        "colab": {
          "base_uri": "https://localhost:8080/",
          "height": 349
        },
        "execution": {
          "iopub.execute_input": "2024-06-12T08:20:45.283652Z",
          "iopub.status.busy": "2024-06-12T08:20:45.282919Z",
          "iopub.status.idle": "2024-06-12T08:20:45.952725Z",
          "shell.execute_reply": "2024-06-12T08:20:45.951837Z",
          "shell.execute_reply.started": "2024-06-12T08:20:45.283615Z"
        },
        "id": "AjFv8oJovlR8",
        "outputId": "d46ee619-f6e3-425a-e113-4446958b7b87",
        "trusted": true
      },
      "outputs": [
        {
          "data": {
            "image/png": "[encoded data removed]",
            "text/plain": [
              "<Figure size 1200x600 with 2 Axes>"
            ]
          },
          "metadata": {},
          "output_type": "display_data"
        }
      ],
      "source": [
        "res = pd.DataFrame(history)\n",
        "plot(res)"
      ]
    },
    {
      "cell_type": "code",
      "execution_count": 12,
      "metadata": {
        "colab": {
          "base_uri": "https://localhost:8080/"
        },
        "execution": {
          "iopub.execute_input": "2024-06-12T08:20:45.953951Z",
          "iopub.status.busy": "2024-06-12T08:20:45.953699Z",
          "iopub.status.idle": "2024-06-12T08:20:46.003118Z",
          "shell.execute_reply": "2024-06-12T08:20:46.002251Z",
          "shell.execute_reply.started": "2024-06-12T08:20:45.953928Z"
        },
        "id": "9GksJXS6vlR8",
        "outputId": "d3e28811-8e5d-4202-83cf-cbf4e79aa3bd",
        "trusted": true
      },
      "outputs": [
        {
          "data": {
            "text/plain": [
              "(34.32539682539682, 1.653055194824461)"
            ]
          },
          "execution_count": 12,
          "metadata": {},
          "output_type": "execute_result"
        }
      ],
      "source": [
        "evaluate(model, test_dataset, device)"
      ]
    },
    {
      "cell_type": "markdown",
      "metadata": {
        "id": "AqFSA9mFvlR9"
      },
      "source": [
        "### Train LSTM using embedding"
      ]
    },
    {
      "cell_type": "code",
      "execution_count": 13,
      "metadata": {
        "colab": {
          "base_uri": "https://localhost:8080/"
        },
        "execution": {
          "iopub.execute_input": "2024-06-12T08:20:46.005211Z",
          "iopub.status.busy": "2024-06-12T08:20:46.004949Z",
          "iopub.status.idle": "2024-06-12T08:22:03.30836Z",
          "shell.execute_reply": "2024-06-12T08:22:03.307359Z",
          "shell.execute_reply.started": "2024-06-12T08:20:46.005188Z"
        },
        "id": "ReccgNucvlR9",
        "outputId": "c202c78f-fa3a-4cd1-e5a2-4371c5e0126a",
        "scrolled": true,
        "trusted": true
      },
      "outputs": [
        {
          "name": "stderr",
          "output_type": "stream",
          "text": [
            "100%|██████████| 500/500 [00:14<00:00, 34.85it/s]\n"
          ]
        },
        {
          "name": "stdout",
          "output_type": "stream",
          "text": [
            "Epoch: 1/40\n",
            "Training ---|  Accuracy: 33.51 Loss: 1.57937\n",
            "Validation ---|  Accuracy: 35.37 Loss: 1.58507\n"
          ]
        },
        {
          "name": "stderr",
          "output_type": "stream",
          "text": [
            "100%|██████████| 500/500 [00:13<00:00, 35.82it/s]\n"
          ]
        },
        {
          "name": "stdout",
          "output_type": "stream",
          "text": [
            "Epoch: 2/40\n",
            "Training ---|  Accuracy: 33.51 Loss: 1.57680\n",
            "Validation ---|  Accuracy: 35.17 Loss: 1.58367\n"
          ]
        },
        {
          "name": "stderr",
          "output_type": "stream",
          "text": [
            "100%|██████████| 500/500 [00:14<00:00, 35.19it/s]\n"
          ]
        },
        {
          "name": "stdout",
          "output_type": "stream",
          "text": [
            "Epoch: 3/40\n",
            "Training ---|  Accuracy: 33.51 Loss: 1.56029\n",
            "Validation ---|  Accuracy: 35.07 Loss: 1.59438\n"
          ]
        },
        {
          "name": "stderr",
          "output_type": "stream",
          "text": [
            "100%|██████████| 500/500 [00:14<00:00, 35.15it/s]\n"
          ]
        },
        {
          "name": "stdout",
          "output_type": "stream",
          "text": [
            "Epoch: 4/40\n",
            "Training ---|  Accuracy: 33.51 Loss: 1.56110\n",
            "Validation ---|  Accuracy: 35.37 Loss: 1.58777\n"
          ]
        },
        {
          "name": "stderr",
          "output_type": "stream",
          "text": [
            "100%|██████████| 500/500 [00:13<00:00, 36.00it/s]\n"
          ]
        },
        {
          "name": "stdout",
          "output_type": "stream",
          "text": [
            "Epoch: 5/40\n",
            "Training ---|  Accuracy: 29.36 Loss: 1.53905\n",
            "Validation ---|  Accuracy: 27.23 Loss: 1.60230\n"
          ]
        },
        {
          "name": "stderr",
          "output_type": "stream",
          "text": [
            "100%|██████████| 500/500 [00:13<00:00, 35.80it/s]\n"
          ]
        },
        {
          "name": "stdout",
          "output_type": "stream",
          "text": [
            "Epoch: 6/40\n",
            "Training ---|  Accuracy: 34.02 Loss: 1.51633\n",
            "Validation ---|  Accuracy: 34.18 Loss: 1.66881\n"
          ]
        },
        {
          "name": "stderr",
          "output_type": "stream",
          "text": [
            "100%|██████████| 500/500 [00:13<00:00, 36.11it/s]\n"
          ]
        },
        {
          "name": "stdout",
          "output_type": "stream",
          "text": [
            "Epoch: 7/40\n",
            "Training ---|  Accuracy: 34.07 Loss: 1.51343\n",
            "Validation ---|  Accuracy: 34.23 Loss: 1.61249\n"
          ]
        },
        {
          "name": "stderr",
          "output_type": "stream",
          "text": [
            "100%|██████████| 500/500 [00:14<00:00, 35.21it/s]\n"
          ]
        },
        {
          "name": "stdout",
          "output_type": "stream",
          "text": [
            "Epoch: 8/40\n",
            "Training ---|  Accuracy: 34.36 Loss: 1.49862\n",
            "Validation ---|  Accuracy: 33.93 Loss: 1.63482\n"
          ]
        },
        {
          "name": "stderr",
          "output_type": "stream",
          "text": [
            "100%|██████████| 500/500 [00:13<00:00, 35.72it/s]\n"
          ]
        },
        {
          "name": "stdout",
          "output_type": "stream",
          "text": [
            "Epoch: 9/40\n",
            "Training ---|  Accuracy: 35.79 Loss: 1.47721\n",
            "Validation ---|  Accuracy: 30.80 Loss: 1.62847\n"
          ]
        },
        {
          "name": "stderr",
          "output_type": "stream",
          "text": [
            "100%|██████████| 500/500 [00:14<00:00, 35.31it/s]\n"
          ]
        },
        {
          "name": "stdout",
          "output_type": "stream",
          "text": [
            "Epoch: 10/40\n",
            "Training ---|  Accuracy: 41.42 Loss: 1.42300\n",
            "Validation ---|  Accuracy: 36.90 Loss: 1.60452\n"
          ]
        },
        {
          "name": "stderr",
          "output_type": "stream",
          "text": [
            "100%|██████████| 500/500 [00:13<00:00, 35.81it/s]\n"
          ]
        },
        {
          "name": "stdout",
          "output_type": "stream",
          "text": [
            "Epoch: 11/40\n",
            "Training ---|  Accuracy: 46.42 Loss: 1.35364\n",
            "Validation ---|  Accuracy: 39.24 Loss: 1.58872\n"
          ]
        },
        {
          "name": "stderr",
          "output_type": "stream",
          "text": [
            "100%|██████████| 500/500 [00:14<00:00, 35.05it/s]\n"
          ]
        },
        {
          "name": "stdout",
          "output_type": "stream",
          "text": [
            "Epoch: 12/40\n",
            "Training ---|  Accuracy: 55.26 Loss: 1.19203\n",
            "Validation ---|  Accuracy: 47.27 Loss: 1.44915\n"
          ]
        },
        {
          "name": "stderr",
          "output_type": "stream",
          "text": [
            "100%|██████████| 500/500 [00:15<00:00, 32.84it/s]\n"
          ]
        },
        {
          "name": "stdout",
          "output_type": "stream",
          "text": [
            "Epoch: 13/40\n",
            "Training ---|  Accuracy: 62.44 Loss: 1.00371\n",
            "Validation ---|  Accuracy: 55.26 Loss: 1.23569\n"
          ]
        },
        {
          "name": "stderr",
          "output_type": "stream",
          "text": [
            "100%|██████████| 500/500 [00:14<00:00, 35.47it/s]\n"
          ]
        },
        {
          "name": "stdout",
          "output_type": "stream",
          "text": [
            "Epoch: 14/40\n",
            "Training ---|  Accuracy: 68.04 Loss: 0.83424\n",
            "Validation ---|  Accuracy: 60.32 Loss: 1.08314\n"
          ]
        },
        {
          "name": "stderr",
          "output_type": "stream",
          "text": [
            "100%|██████████| 500/500 [00:14<00:00, 35.13it/s]\n"
          ]
        },
        {
          "name": "stdout",
          "output_type": "stream",
          "text": [
            "Epoch: 15/40\n",
            "Training ---|  Accuracy: 75.03 Loss: 0.68185\n",
            "Validation ---|  Accuracy: 62.95 Loss: 0.99547\n"
          ]
        },
        {
          "name": "stderr",
          "output_type": "stream",
          "text": [
            "100%|██████████| 500/500 [00:14<00:00, 35.46it/s]\n"
          ]
        },
        {
          "name": "stdout",
          "output_type": "stream",
          "text": [
            "Epoch: 16/40\n",
            "Training ---|  Accuracy: 79.72 Loss: 0.55475\n",
            "Validation ---|  Accuracy: 68.80 Loss: 0.86466\n"
          ]
        },
        {
          "name": "stderr",
          "output_type": "stream",
          "text": [
            "100%|██████████| 500/500 [00:14<00:00, 34.37it/s]\n"
          ]
        },
        {
          "name": "stdout",
          "output_type": "stream",
          "text": [
            "Epoch: 17/40\n",
            "Training ---|  Accuracy: 84.66 Loss: 0.43740\n",
            "Validation ---|  Accuracy: 71.03 Loss: 0.77955\n"
          ]
        },
        {
          "name": "stderr",
          "output_type": "stream",
          "text": [
            "100%|██████████| 500/500 [00:14<00:00, 34.15it/s]\n"
          ]
        },
        {
          "name": "stdout",
          "output_type": "stream",
          "text": [
            "Epoch: 18/40\n",
            "Training ---|  Accuracy: 87.17 Loss: 0.37038\n",
            "Validation ---|  Accuracy: 75.00 Loss: 0.71696\n"
          ]
        },
        {
          "name": "stderr",
          "output_type": "stream",
          "text": [
            "100%|██████████| 500/500 [00:15<00:00, 32.94it/s]\n"
          ]
        },
        {
          "name": "stdout",
          "output_type": "stream",
          "text": [
            "Epoch: 19/40\n",
            "Training ---|  Accuracy: 89.62 Loss: 0.30504\n",
            "Validation ---|  Accuracy: 77.03 Loss: 0.64036\n"
          ]
        },
        {
          "name": "stderr",
          "output_type": "stream",
          "text": [
            "100%|██████████| 500/500 [00:16<00:00, 30.70it/s]\n"
          ]
        },
        {
          "name": "stdout",
          "output_type": "stream",
          "text": [
            "Epoch: 20/40\n",
            "Training ---|  Accuracy: 91.60 Loss: 0.24801\n",
            "Validation ---|  Accuracy: 78.97 Loss: 0.59275\n"
          ]
        },
        {
          "name": "stderr",
          "output_type": "stream",
          "text": [
            "100%|██████████| 500/500 [00:15<00:00, 32.00it/s]\n"
          ]
        },
        {
          "name": "stdout",
          "output_type": "stream",
          "text": [
            "Epoch: 21/40\n",
            "Training ---|  Accuracy: 92.49 Loss: 0.21832\n",
            "Validation ---|  Accuracy: 80.90 Loss: 0.59275\n"
          ]
        },
        {
          "name": "stderr",
          "output_type": "stream",
          "text": [
            "100%|██████████| 500/500 [00:15<00:00, 33.21it/s]\n"
          ]
        },
        {
          "name": "stdout",
          "output_type": "stream",
          "text": [
            "Epoch: 22/40\n",
            "Training ---|  Accuracy: 92.74 Loss: 0.20222\n",
            "Validation ---|  Accuracy: 80.16 Loss: 0.57979\n"
          ]
        },
        {
          "name": "stderr",
          "output_type": "stream",
          "text": [
            "100%|██████████| 500/500 [00:15<00:00, 32.82it/s]\n"
          ]
        },
        {
          "name": "stdout",
          "output_type": "stream",
          "text": [
            "Epoch: 23/40\n",
            "Training ---|  Accuracy: 94.12 Loss: 0.17485\n",
            "Validation ---|  Accuracy: 83.33 Loss: 0.53111\n"
          ]
        },
        {
          "name": "stderr",
          "output_type": "stream",
          "text": [
            "100%|██████████| 500/500 [00:15<00:00, 32.24it/s]\n"
          ]
        },
        {
          "name": "stdout",
          "output_type": "stream",
          "text": [
            "Epoch: 24/40\n",
            "Training ---|  Accuracy: 94.40 Loss: 0.16344\n",
            "Validation ---|  Accuracy: 82.39 Loss: 0.55032\n"
          ]
        },
        {
          "name": "stderr",
          "output_type": "stream",
          "text": [
            "100%|██████████| 500/500 [00:15<00:00, 32.04it/s]\n"
          ]
        },
        {
          "name": "stdout",
          "output_type": "stream",
          "text": [
            "Epoch: 25/40\n",
            "Training ---|  Accuracy: 94.51 Loss: 0.15399\n",
            "Validation ---|  Accuracy: 82.74 Loss: 0.55383\n"
          ]
        },
        {
          "name": "stderr",
          "output_type": "stream",
          "text": [
            "100%|██████████| 500/500 [00:15<00:00, 31.26it/s]\n"
          ]
        },
        {
          "name": "stdout",
          "output_type": "stream",
          "text": [
            "Epoch: 26/40\n",
            "Training ---|  Accuracy: 94.73 Loss: 0.14490\n",
            "Validation ---|  Accuracy: 83.83 Loss: 0.52451\n"
          ]
        },
        {
          "name": "stderr",
          "output_type": "stream",
          "text": [
            "100%|██████████| 500/500 [00:15<00:00, 31.60it/s]\n"
          ]
        },
        {
          "name": "stdout",
          "output_type": "stream",
          "text": [
            "Epoch: 27/40\n",
            "Training ---|  Accuracy: 95.38 Loss: 0.12445\n",
            "Validation ---|  Accuracy: 84.82 Loss: 0.49856\n"
          ]
        },
        {
          "name": "stderr",
          "output_type": "stream",
          "text": [
            "100%|██████████| 500/500 [00:16<00:00, 30.17it/s]\n"
          ]
        },
        {
          "name": "stdout",
          "output_type": "stream",
          "text": [
            "Epoch: 28/40\n",
            "Training ---|  Accuracy: 94.56 Loss: 0.14741\n",
            "Validation ---|  Accuracy: 83.63 Loss: 0.52185\n"
          ]
        },
        {
          "name": "stderr",
          "output_type": "stream",
          "text": [
            "100%|██████████| 500/500 [00:16<00:00, 30.85it/s]\n"
          ]
        },
        {
          "name": "stdout",
          "output_type": "stream",
          "text": [
            "Epoch: 29/40\n",
            "Training ---|  Accuracy: 95.77 Loss: 0.11810\n",
            "Validation ---|  Accuracy: 84.42 Loss: 0.50316\n"
          ]
        },
        {
          "name": "stderr",
          "output_type": "stream",
          "text": [
            "100%|██████████| 500/500 [00:17<00:00, 29.18it/s]\n"
          ]
        },
        {
          "name": "stdout",
          "output_type": "stream",
          "text": [
            "Epoch: 30/40\n",
            "Training ---|  Accuracy: 96.10 Loss: 0.11227\n",
            "Validation ---|  Accuracy: 85.86 Loss: 0.43189\n"
          ]
        },
        {
          "name": "stderr",
          "output_type": "stream",
          "text": [
            "100%|██████████| 500/500 [00:17<00:00, 28.11it/s]\n"
          ]
        },
        {
          "name": "stdout",
          "output_type": "stream",
          "text": [
            "Epoch: 31/40\n",
            "Training ---|  Accuracy: 95.84 Loss: 0.11267\n",
            "Validation ---|  Accuracy: 84.62 Loss: 0.47559\n"
          ]
        },
        {
          "name": "stderr",
          "output_type": "stream",
          "text": [
            "100%|██████████| 500/500 [00:18<00:00, 26.94it/s]\n"
          ]
        },
        {
          "name": "stdout",
          "output_type": "stream",
          "text": [
            "Epoch: 32/40\n",
            "Training ---|  Accuracy: 96.09 Loss: 0.10500\n",
            "Validation ---|  Accuracy: 84.82 Loss: 0.49263\n"
          ]
        },
        {
          "name": "stderr",
          "output_type": "stream",
          "text": [
            "100%|██████████| 500/500 [00:19<00:00, 25.20it/s]\n"
          ]
        },
        {
          "name": "stdout",
          "output_type": "stream",
          "text": [
            "Epoch: 33/40\n",
            "Training ---|  Accuracy: 96.50 Loss: 0.09494\n",
            "Validation ---|  Accuracy: 86.31 Loss: 0.45300\n"
          ]
        },
        {
          "name": "stderr",
          "output_type": "stream",
          "text": [
            "100%|██████████| 500/500 [00:21<00:00, 23.70it/s]\n"
          ]
        },
        {
          "name": "stdout",
          "output_type": "stream",
          "text": [
            "Epoch: 34/40\n",
            "Training ---|  Accuracy: 96.46 Loss: 0.09583\n",
            "Validation ---|  Accuracy: 85.91 Loss: 0.44665\n"
          ]
        },
        {
          "name": "stderr",
          "output_type": "stream",
          "text": [
            "100%|██████████| 500/500 [00:21<00:00, 23.49it/s]\n"
          ]
        },
        {
          "name": "stdout",
          "output_type": "stream",
          "text": [
            "Epoch: 35/40\n",
            "Training ---|  Accuracy: 96.60 Loss: 0.09595\n",
            "Validation ---|  Accuracy: 86.36 Loss: 0.47578\n"
          ]
        },
        {
          "name": "stderr",
          "output_type": "stream",
          "text": [
            "100%|██████████| 500/500 [00:21<00:00, 22.80it/s]\n"
          ]
        },
        {
          "name": "stdout",
          "output_type": "stream",
          "text": [
            "Epoch: 36/40\n",
            "Training ---|  Accuracy: 97.06 Loss: 0.07856\n",
            "Validation ---|  Accuracy: 85.32 Loss: 0.50369\n"
          ]
        },
        {
          "name": "stderr",
          "output_type": "stream",
          "text": [
            "100%|██████████| 500/500 [00:22<00:00, 22.42it/s]\n"
          ]
        },
        {
          "name": "stdout",
          "output_type": "stream",
          "text": [
            "Epoch: 37/40\n",
            "Training ---|  Accuracy: 97.06 Loss: 0.08100\n",
            "Validation ---|  Accuracy: 87.00 Loss: 0.45271\n"
          ]
        },
        {
          "name": "stderr",
          "output_type": "stream",
          "text": [
            "100%|██████████| 500/500 [00:24<00:00, 20.61it/s]\n"
          ]
        },
        {
          "name": "stdout",
          "output_type": "stream",
          "text": [
            "Epoch: 38/40\n",
            "Training ---|  Accuracy: 97.19 Loss: 0.07729\n",
            "Validation ---|  Accuracy: 86.11 Loss: 0.47965\n"
          ]
        },
        {
          "name": "stderr",
          "output_type": "stream",
          "text": [
            "100%|██████████| 500/500 [00:24<00:00, 20.40it/s]\n"
          ]
        },
        {
          "name": "stdout",
          "output_type": "stream",
          "text": [
            "Epoch: 39/40\n",
            "Training ---|  Accuracy: 97.21 Loss: 0.07475\n",
            "Validation ---|  Accuracy: 87.20 Loss: 0.46553\n"
          ]
        },
        {
          "name": "stderr",
          "output_type": "stream",
          "text": [
            "100%|██████████| 500/500 [00:25<00:00, 19.32it/s]\n"
          ]
        },
        {
          "name": "stdout",
          "output_type": "stream",
          "text": [
            "Epoch: 40/40\n",
            "Training ---|  Accuracy: 97.38 Loss: 0.07172\n",
            "Validation ---|  Accuracy: 87.70 Loss: 0.43013\n",
            "CPU times: user 14min 24s, sys: 5.74 s, total: 14min 30s\n",
            "Wall time: 14min 43s\n"
          ]
        }
      ],
      "source": [
        "%%time\n",
        "\n",
        "\n",
        "class LSTMNetwork(nn.Module):\n",
        "    def __init__(self, n_class):\n",
        "        super().__init__()\n",
        "        self.embeddings = nn.Embedding(len(processor.vocab), 32)\n",
        "        self.lstm = nn.LSTM(32, 64, num_layers=2, batch_first=True)\n",
        "        self.fc = nn.Linear(64, n_class)\n",
        "\n",
        "    def forward(self, features):\n",
        "        features = features.type(torch.long)\n",
        "        emb = self.embeddings(features)\n",
        "        # print(emb.shape)\n",
        "        out, _ = self.lstm(emb)\n",
        "        out = self.fc(out[:, -1, :])  # Use the output from the last time step\n",
        "        return out\n",
        "\n",
        "\n",
        "model_lstm = LSTMNetwork(n_class=6).to(device)\n",
        "\n",
        "\n",
        "criterion = nn.CrossEntropyLoss()\n",
        "optimizer = torch.optim.Adam(params=model_lstm.parameters(), lr=0.01)\n",
        "\n",
        "# Assuming trainer is a function that handles the training loop\n",
        "history = trainer(\n",
        "    model_lstm,\n",
        "    epochs=40,\n",
        "    device=device,\n",
        "    train_data=train_dataset,\n",
        "    val_data=val_dataset,\n",
        "    criterion=criterion,\n",
        "    optimizer=optimizer,\n",
        ")"
      ]
    },
    {
      "cell_type": "code",
      "execution_count": 14,
      "metadata": {
        "colab": {
          "base_uri": "https://localhost:8080/",
          "height": 349
        },
        "execution": {
          "iopub.execute_input": "2024-06-12T08:22:03.310199Z",
          "iopub.status.busy": "2024-06-12T08:22:03.309795Z",
          "iopub.status.idle": "2024-06-12T08:22:03.869047Z",
          "shell.execute_reply": "2024-06-12T08:22:03.868169Z",
          "shell.execute_reply.started": "2024-06-12T08:22:03.31016Z"
        },
        "id": "dQyfQbVqvlR9",
        "outputId": "4815945c-e648-4690-c832-28c5fee280f9",
        "trusted": true
      },
      "outputs": [
        {
          "data": {
            "image/png": "[encoded data removed]",
            "text/plain": [
              "<Figure size 1200x600 with 2 Axes>"
            ]
          },
          "metadata": {},
          "output_type": "display_data"
        }
      ],
      "source": [
        "res = pd.DataFrame(history)\n",
        "plot(res)"
      ]
    },
    {
      "cell_type": "code",
      "execution_count": 19,
      "metadata": {
        "colab": {
          "base_uri": "https://localhost:8080/"
        },
        "execution": {
          "iopub.execute_input": "2024-06-12T08:22:03.870398Z",
          "iopub.status.busy": "2024-06-12T08:22:03.870103Z",
          "iopub.status.idle": "2024-06-12T08:22:03.95258Z",
          "shell.execute_reply": "2024-06-12T08:22:03.951687Z",
          "shell.execute_reply.started": "2024-06-12T08:22:03.870372Z"
        },
        "id": "p4grVG4nvlR9",
        "outputId": "399022a0-561a-4140-a869-a7d820b7b3b0",
        "trusted": true
      },
      "outputs": [
        {
          "data": {
            "text/plain": [
              "(86.60714285714286, 0.4639430692389844)"
            ]
          },
          "execution_count": 19,
          "metadata": {},
          "output_type": "execute_result"
        }
      ],
      "source": [
        "evaluate(model_lstm, test_dataset, device=\"cpu\")"
      ]
    },
    {
      "cell_type": "code",
      "execution_count": null,
      "metadata": {
        "id": "TI-64vmU09V6"
      },
      "outputs": [],
      "source": []
    }
  ],
  "metadata": {
    "colab": {
      "provenance": [],
      "toc_visible": true
    },
    "kaggle": {
      "accelerator": "nvidiaTeslaT4",
      "dataSources": [
        {
          "datasetId": 1590810,
          "sourceId": 2617192,
          "sourceType": "datasetVersion"
        }
      ],
      "dockerImageVersionId": 30699,
      "isGpuEnabled": true,
      "isInternetEnabled": true,
      "language": "python",
      "sourceType": "notebook"
    },
    "kernelspec": {
      "display_name": "Python 3",
      "language": "python",
      "name": "python3"
    },
    "language_info": {
      "codemirror_mode": {
        "name": "ipython",
        "version": 3
      },
      "file_extension": ".py",
      "mimetype": "text/x-python",
      "name": "python",
      "nbconvert_exporter": "python",
      "pygments_lexer": "ipython3",
      "version": "3.10.13"
    },
    "widgets": {
      "application/vnd.jupyter.widget-state+json": {
        "237f491921b84768b86851dcf0b22a92": {
          "model_module": "@jupyter-widgets/base",
          "model_module_version": "1.2.0",
          "model_name": "LayoutModel",
          "state": {
            "_model_module": "@jupyter-widgets/base",
            "_model_module_version": "1.2.0",
            "_model_name": "LayoutModel",
            "_view_count": null,
            "_view_module": "@jupyter-widgets/base",
            "_view_module_version": "1.2.0",
            "_view_name": "LayoutView",
            "align_content": null,
            "align_items": null,
            "align_self": null,
            "border": null,
            "bottom": null,
            "display": null,
            "flex": null,
            "flex_flow": null,
            "grid_area": null,
            "grid_auto_columns": null,
            "grid_auto_flow": null,
            "grid_auto_rows": null,
            "grid_column": null,
            "grid_gap": null,
            "grid_row": null,
            "grid_template_areas": null,
            "grid_template_columns": null,
            "grid_template_rows": null,
            "height": null,
            "justify_content": null,
            "justify_items": null,
            "left": null,
            "margin": null,
            "max_height": null,
            "max_width": null,
            "min_height": null,
            "min_width": null,
            "object_fit": null,
            "object_position": null,
            "order": null,
            "overflow": null,
            "overflow_x": null,
            "overflow_y": null,
            "padding": null,
            "right": null,
            "top": null,
            "visibility": null,
            "width": null
          }
        },
        "38c50bef1e384c57b1991b6ef7d821ca": {
          "model_module": "@jupyter-widgets/base",
          "model_module_version": "1.2.0",
          "model_name": "LayoutModel",
          "state": {
            "_model_module": "@jupyter-widgets/base",
            "_model_module_version": "1.2.0",
            "_model_name": "LayoutModel",
            "_view_count": null,
            "_view_module": "@jupyter-widgets/base",
            "_view_module_version": "1.2.0",
            "_view_name": "LayoutView",
            "align_content": null,
            "align_items": null,
            "align_self": null,
            "border": null,
            "bottom": null,
            "display": null,
            "flex": null,
            "flex_flow": null,
            "grid_area": null,
            "grid_auto_columns": null,
            "grid_auto_flow": null,
            "grid_auto_rows": null,
            "grid_column": null,
            "grid_gap": null,
            "grid_row": null,
            "grid_template_areas": null,
            "grid_template_columns": null,
            "grid_template_rows": null,
            "height": null,
            "justify_content": null,
            "justify_items": null,
            "left": null,
            "margin": null,
            "max_height": null,
            "max_width": null,
            "min_height": null,
            "min_width": null,
            "object_fit": null,
            "object_position": null,
            "order": null,
            "overflow": null,
            "overflow_x": null,
            "overflow_y": null,
            "padding": null,
            "right": null,
            "top": null,
            "visibility": null,
            "width": null
          }
        },
        "3d0ac2fea24b46ba91a34f4fadbe8072": {
          "model_module": "@jupyter-widgets/controls",
          "model_module_version": "1.5.0",
          "model_name": "LabelModel",
          "state": {
            "_dom_classes": [],
            "_model_module": "@jupyter-widgets/controls",
            "_model_module_version": "1.5.0",
            "_model_name": "LabelModel",
            "_view_count": null,
            "_view_module": "@jupyter-widgets/controls",
            "_view_module_version": "1.5.0",
            "_view_name": "LabelView",
            "description": "",
            "description_tooltip": null,
            "layout": "IPY_MODEL_38c50bef1e384c57b1991b6ef7d821ca",
            "placeholder": "​",
            "style": "IPY_MODEL_4d2960b2c1a14e1a8fbe03cbbef9be97",
            "value": "2000 / 2000"
          }
        },
        "439f70aef4474a9ca59d43cf57b2cf34": {
          "model_module": "@jupyter-widgets/base",
          "model_module_version": "1.2.0",
          "model_name": "LayoutModel",
          "state": {
            "_model_module": "@jupyter-widgets/base",
            "_model_module_version": "1.2.0",
            "_model_name": "LayoutModel",
            "_view_count": null,
            "_view_module": "@jupyter-widgets/base",
            "_view_module_version": "1.2.0",
            "_view_name": "LayoutView",
            "align_content": null,
            "align_items": null,
            "align_self": null,
            "border": null,
            "bottom": null,
            "display": null,
            "flex": null,
            "flex_flow": null,
            "grid_area": null,
            "grid_auto_columns": null,
            "grid_auto_flow": null,
            "grid_auto_rows": null,
            "grid_column": null,
            "grid_gap": null,
            "grid_row": null,
            "grid_template_areas": null,
            "grid_template_columns": null,
            "grid_template_rows": null,
            "height": null,
            "justify_content": null,
            "justify_items": null,
            "left": null,
            "margin": null,
            "max_height": null,
            "max_width": null,
            "min_height": null,
            "min_width": null,
            "object_fit": null,
            "object_position": null,
            "order": null,
            "overflow": null,
            "overflow_x": null,
            "overflow_y": null,
            "padding": null,
            "right": null,
            "top": null,
            "visibility": null,
            "width": null
          }
        },
        "4d2960b2c1a14e1a8fbe03cbbef9be97": {
          "model_module": "@jupyter-widgets/controls",
          "model_module_version": "1.5.0",
          "model_name": "DescriptionStyleModel",
          "state": {
            "_model_module": "@jupyter-widgets/controls",
            "_model_module_version": "1.5.0",
            "_model_name": "DescriptionStyleModel",
            "_view_count": null,
            "_view_module": "@jupyter-widgets/base",
            "_view_module_version": "1.2.0",
            "_view_name": "StyleView",
            "description_width": ""
          }
        },
        "5076d45977644dc08af4b3a8458b7ba0": {
          "model_module": "@jupyter-widgets/controls",
          "model_module_version": "1.5.0",
          "model_name": "VBoxModel",
          "state": {
            "_dom_classes": [],
            "_model_module": "@jupyter-widgets/controls",
            "_model_module_version": "1.5.0",
            "_model_name": "VBoxModel",
            "_view_count": null,
            "_view_module": "@jupyter-widgets/controls",
            "_view_module_version": "1.5.0",
            "_view_name": "VBoxView",
            "box_style": "",
            "children": [
              "IPY_MODEL_78a622bd8cc1461ba04172ec89dc4b7c"
            ],
            "layout": "IPY_MODEL_439f70aef4474a9ca59d43cf57b2cf34"
          }
        },
        "539b4a3bbd3846a7a51379e909530e17": {
          "model_module": "@jupyter-widgets/base",
          "model_module_version": "1.2.0",
          "model_name": "LayoutModel",
          "state": {
            "_model_module": "@jupyter-widgets/base",
            "_model_module_version": "1.2.0",
            "_model_name": "LayoutModel",
            "_view_count": null,
            "_view_module": "@jupyter-widgets/base",
            "_view_module_version": "1.2.0",
            "_view_name": "LayoutView",
            "align_content": null,
            "align_items": null,
            "align_self": null,
            "border": null,
            "bottom": null,
            "display": null,
            "flex": null,
            "flex_flow": null,
            "grid_area": null,
            "grid_auto_columns": null,
            "grid_auto_flow": null,
            "grid_auto_rows": null,
            "grid_column": null,
            "grid_gap": null,
            "grid_row": null,
            "grid_template_areas": null,
            "grid_template_columns": null,
            "grid_template_rows": null,
            "height": null,
            "justify_content": null,
            "justify_items": null,
            "left": null,
            "margin": null,
            "max_height": null,
            "max_width": null,
            "min_height": null,
            "min_width": null,
            "object_fit": null,
            "object_position": null,
            "order": null,
            "overflow": null,
            "overflow_x": null,
            "overflow_y": null,
            "padding": null,
            "right": null,
            "top": null,
            "visibility": null,
            "width": null
          }
        },
        "5c236d4a890c4ab6a79c327f8f0ab01b": {
          "model_module": "@jupyter-widgets/base",
          "model_module_version": "1.2.0",
          "model_name": "LayoutModel",
          "state": {
            "_model_module": "@jupyter-widgets/base",
            "_model_module_version": "1.2.0",
            "_model_name": "LayoutModel",
            "_view_count": null,
            "_view_module": "@jupyter-widgets/base",
            "_view_module_version": "1.2.0",
            "_view_name": "LayoutView",
            "align_content": null,
            "align_items": null,
            "align_self": null,
            "border": null,
            "bottom": null,
            "display": null,
            "flex": null,
            "flex_flow": null,
            "grid_area": null,
            "grid_auto_columns": null,
            "grid_auto_flow": null,
            "grid_auto_rows": null,
            "grid_column": null,
            "grid_gap": null,
            "grid_row": null,
            "grid_template_areas": null,
            "grid_template_columns": null,
            "grid_template_rows": null,
            "height": null,
            "justify_content": null,
            "justify_items": null,
            "left": null,
            "margin": null,
            "max_height": null,
            "max_width": null,
            "min_height": null,
            "min_width": null,
            "object_fit": null,
            "object_position": null,
            "order": null,
            "overflow": null,
            "overflow_x": null,
            "overflow_y": null,
            "padding": null,
            "right": null,
            "top": null,
            "visibility": null,
            "width": null
          }
        },
        "619200dfa1504755b7b2fbf506f25744": {
          "model_module": "@jupyter-widgets/controls",
          "model_module_version": "1.5.0",
          "model_name": "ProgressStyleModel",
          "state": {
            "_model_module": "@jupyter-widgets/controls",
            "_model_module_version": "1.5.0",
            "_model_name": "ProgressStyleModel",
            "_view_count": null,
            "_view_module": "@jupyter-widgets/base",
            "_view_module_version": "1.2.0",
            "_view_name": "StyleView",
            "bar_color": null,
            "description_width": ""
          }
        },
        "68b0fc44d0a440dbaec87105579845c6": {
          "model_module": "@jupyter-widgets/base",
          "model_module_version": "1.2.0",
          "model_name": "LayoutModel",
          "state": {
            "_model_module": "@jupyter-widgets/base",
            "_model_module_version": "1.2.0",
            "_model_name": "LayoutModel",
            "_view_count": null,
            "_view_module": "@jupyter-widgets/base",
            "_view_module_version": "1.2.0",
            "_view_name": "LayoutView",
            "align_content": null,
            "align_items": null,
            "align_self": null,
            "border": null,
            "bottom": null,
            "display": null,
            "flex": null,
            "flex_flow": null,
            "grid_area": null,
            "grid_auto_columns": null,
            "grid_auto_flow": null,
            "grid_auto_rows": null,
            "grid_column": null,
            "grid_gap": null,
            "grid_row": null,
            "grid_template_areas": null,
            "grid_template_columns": null,
            "grid_template_rows": null,
            "height": null,
            "justify_content": null,
            "justify_items": null,
            "left": null,
            "margin": null,
            "max_height": null,
            "max_width": null,
            "min_height": null,
            "min_width": null,
            "object_fit": null,
            "object_position": null,
            "order": null,
            "overflow": null,
            "overflow_x": null,
            "overflow_y": null,
            "padding": null,
            "right": null,
            "top": null,
            "visibility": null,
            "width": null
          }
        },
        "6c57a277bc664bd495b8c8dc724b98b0": {
          "model_module": "@jupyter-widgets/controls",
          "model_module_version": "1.5.0",
          "model_name": "HBoxModel",
          "state": {
            "_dom_classes": [],
            "_model_module": "@jupyter-widgets/controls",
            "_model_module_version": "1.5.0",
            "_model_name": "HBoxModel",
            "_view_count": null,
            "_view_module": "@jupyter-widgets/controls",
            "_view_module_version": "1.5.0",
            "_view_name": "HBoxView",
            "box_style": "",
            "children": [
              "IPY_MODEL_9f686ba907a7470ab0a1ce775aed54fc",
              "IPY_MODEL_ad8f26a3677445188cae17d4df0c37b4"
            ],
            "layout": "IPY_MODEL_99d8f228a97e4530b8eec9a590338e85"
          }
        },
        "78a622bd8cc1461ba04172ec89dc4b7c": {
          "model_module": "@jupyter-widgets/controls",
          "model_module_version": "1.5.0",
          "model_name": "HBoxModel",
          "state": {
            "_dom_classes": [],
            "_model_module": "@jupyter-widgets/controls",
            "_model_module_version": "1.5.0",
            "_model_name": "HBoxModel",
            "_view_count": null,
            "_view_module": "@jupyter-widgets/controls",
            "_view_module_version": "1.5.0",
            "_view_name": "HBoxView",
            "box_style": "",
            "children": [
              "IPY_MODEL_7f78d47e59b34747a310f82ab1cd981c",
              "IPY_MODEL_3d0ac2fea24b46ba91a34f4fadbe8072"
            ],
            "layout": "IPY_MODEL_539b4a3bbd3846a7a51379e909530e17"
          }
        },
        "7f78d47e59b34747a310f82ab1cd981c": {
          "model_module": "@jupyter-widgets/controls",
          "model_module_version": "1.5.0",
          "model_name": "IntProgressModel",
          "state": {
            "_dom_classes": [],
            "_model_module": "@jupyter-widgets/controls",
            "_model_module_version": "1.5.0",
            "_model_name": "IntProgressModel",
            "_view_count": null,
            "_view_module": "@jupyter-widgets/controls",
            "_view_module_version": "1.5.0",
            "_view_name": "ProgressView",
            "bar_style": "success",
            "description": "100.00%",
            "description_tooltip": null,
            "layout": "IPY_MODEL_99fc6d125453439bafec21cd3c68c413",
            "max": 2000,
            "min": 0,
            "orientation": "horizontal",
            "style": "IPY_MODEL_8c84ac25d7f4439ba31fcfcbb1fedd1c",
            "value": 2000
          }
        },
        "8c84ac25d7f4439ba31fcfcbb1fedd1c": {
          "model_module": "@jupyter-widgets/controls",
          "model_module_version": "1.5.0",
          "model_name": "ProgressStyleModel",
          "state": {
            "_model_module": "@jupyter-widgets/controls",
            "_model_module_version": "1.5.0",
            "_model_name": "ProgressStyleModel",
            "_view_count": null,
            "_view_module": "@jupyter-widgets/base",
            "_view_module_version": "1.2.0",
            "_view_name": "StyleView",
            "bar_color": null,
            "description_width": ""
          }
        },
        "8db7e649014a421ca430108f0ca28a8b": {
          "model_module": "@jupyter-widgets/base",
          "model_module_version": "1.2.0",
          "model_name": "LayoutModel",
          "state": {
            "_model_module": "@jupyter-widgets/base",
            "_model_module_version": "1.2.0",
            "_model_name": "LayoutModel",
            "_view_count": null,
            "_view_module": "@jupyter-widgets/base",
            "_view_module_version": "1.2.0",
            "_view_name": "LayoutView",
            "align_content": null,
            "align_items": null,
            "align_self": null,
            "border": null,
            "bottom": null,
            "display": null,
            "flex": null,
            "flex_flow": null,
            "grid_area": null,
            "grid_auto_columns": null,
            "grid_auto_flow": null,
            "grid_auto_rows": null,
            "grid_column": null,
            "grid_gap": null,
            "grid_row": null,
            "grid_template_areas": null,
            "grid_template_columns": null,
            "grid_template_rows": null,
            "height": null,
            "justify_content": null,
            "justify_items": null,
            "left": null,
            "margin": null,
            "max_height": null,
            "max_width": null,
            "min_height": null,
            "min_width": null,
            "object_fit": null,
            "object_position": null,
            "order": null,
            "overflow": null,
            "overflow_x": null,
            "overflow_y": null,
            "padding": null,
            "right": null,
            "top": null,
            "visibility": null,
            "width": null
          }
        },
        "8f52802c44dd4003ac16bdb45c5139b8": {
          "model_module": "@jupyter-widgets/controls",
          "model_module_version": "1.5.0",
          "model_name": "DescriptionStyleModel",
          "state": {
            "_model_module": "@jupyter-widgets/controls",
            "_model_module_version": "1.5.0",
            "_model_name": "DescriptionStyleModel",
            "_view_count": null,
            "_view_module": "@jupyter-widgets/base",
            "_view_module_version": "1.2.0",
            "_view_name": "StyleView",
            "description_width": ""
          }
        },
        "93720f39e084469597aa6a2caaa37ada": {
          "model_module": "@jupyter-widgets/controls",
          "model_module_version": "1.5.0",
          "model_name": "HBoxModel",
          "state": {
            "_dom_classes": [],
            "_model_module": "@jupyter-widgets/controls",
            "_model_module_version": "1.5.0",
            "_model_name": "HBoxModel",
            "_view_count": null,
            "_view_module": "@jupyter-widgets/controls",
            "_view_module_version": "1.5.0",
            "_view_name": "HBoxView",
            "box_style": "",
            "children": [
              "IPY_MODEL_d7ecac9c492a4af9b260b942e65bed76",
              "IPY_MODEL_ca4d1ab4ad6443aeaae1f5abc375f6e7"
            ],
            "layout": "IPY_MODEL_68b0fc44d0a440dbaec87105579845c6"
          }
        },
        "95f0f8c11f0e40c4acfe6aab22b5b928": {
          "model_module": "@jupyter-widgets/controls",
          "model_module_version": "1.5.0",
          "model_name": "VBoxModel",
          "state": {
            "_dom_classes": [],
            "_model_module": "@jupyter-widgets/controls",
            "_model_module_version": "1.5.0",
            "_model_name": "VBoxModel",
            "_view_count": null,
            "_view_module": "@jupyter-widgets/controls",
            "_view_module_version": "1.5.0",
            "_view_name": "VBoxView",
            "box_style": "",
            "children": [
              "IPY_MODEL_6c57a277bc664bd495b8c8dc724b98b0"
            ],
            "layout": "IPY_MODEL_237f491921b84768b86851dcf0b22a92"
          }
        },
        "99d8f228a97e4530b8eec9a590338e85": {
          "model_module": "@jupyter-widgets/base",
          "model_module_version": "1.2.0",
          "model_name": "LayoutModel",
          "state": {
            "_model_module": "@jupyter-widgets/base",
            "_model_module_version": "1.2.0",
            "_model_name": "LayoutModel",
            "_view_count": null,
            "_view_module": "@jupyter-widgets/base",
            "_view_module_version": "1.2.0",
            "_view_name": "LayoutView",
            "align_content": null,
            "align_items": null,
            "align_self": null,
            "border": null,
            "bottom": null,
            "display": null,
            "flex": null,
            "flex_flow": null,
            "grid_area": null,
            "grid_auto_columns": null,
            "grid_auto_flow": null,
            "grid_auto_rows": null,
            "grid_column": null,
            "grid_gap": null,
            "grid_row": null,
            "grid_template_areas": null,
            "grid_template_columns": null,
            "grid_template_rows": null,
            "height": null,
            "justify_content": null,
            "justify_items": null,
            "left": null,
            "margin": null,
            "max_height": null,
            "max_width": null,
            "min_height": null,
            "min_width": null,
            "object_fit": null,
            "object_position": null,
            "order": null,
            "overflow": null,
            "overflow_x": null,
            "overflow_y": null,
            "padding": null,
            "right": null,
            "top": null,
            "visibility": null,
            "width": null
          }
        },
        "99fc6d125453439bafec21cd3c68c413": {
          "model_module": "@jupyter-widgets/base",
          "model_module_version": "1.2.0",
          "model_name": "LayoutModel",
          "state": {
            "_model_module": "@jupyter-widgets/base",
            "_model_module_version": "1.2.0",
            "_model_name": "LayoutModel",
            "_view_count": null,
            "_view_module": "@jupyter-widgets/base",
            "_view_module_version": "1.2.0",
            "_view_name": "LayoutView",
            "align_content": null,
            "align_items": null,
            "align_self": null,
            "border": null,
            "bottom": null,
            "display": null,
            "flex": null,
            "flex_flow": null,
            "grid_area": null,
            "grid_auto_columns": null,
            "grid_auto_flow": null,
            "grid_auto_rows": null,
            "grid_column": null,
            "grid_gap": null,
            "grid_row": null,
            "grid_template_areas": null,
            "grid_template_columns": null,
            "grid_template_rows": null,
            "height": null,
            "justify_content": null,
            "justify_items": null,
            "left": null,
            "margin": null,
            "max_height": null,
            "max_width": null,
            "min_height": null,
            "min_width": null,
            "object_fit": null,
            "object_position": null,
            "order": null,
            "overflow": null,
            "overflow_x": null,
            "overflow_y": null,
            "padding": null,
            "right": null,
            "top": null,
            "visibility": null,
            "width": null
          }
        },
        "9f686ba907a7470ab0a1ce775aed54fc": {
          "model_module": "@jupyter-widgets/controls",
          "model_module_version": "1.5.0",
          "model_name": "IntProgressModel",
          "state": {
            "_dom_classes": [],
            "_model_module": "@jupyter-widgets/controls",
            "_model_module_version": "1.5.0",
            "_model_name": "IntProgressModel",
            "_view_count": null,
            "_view_module": "@jupyter-widgets/controls",
            "_view_module_version": "1.5.0",
            "_view_name": "ProgressView",
            "bar_style": "success",
            "description": "100.00%",
            "description_tooltip": null,
            "layout": "IPY_MODEL_bb687c6408ee484aba295aeaaea43da2",
            "max": 16000,
            "min": 0,
            "orientation": "horizontal",
            "style": "IPY_MODEL_d4d0d7cceeb74eb7917339bac4b20044",
            "value": 16000
          }
        },
        "ad8f26a3677445188cae17d4df0c37b4": {
          "model_module": "@jupyter-widgets/controls",
          "model_module_version": "1.5.0",
          "model_name": "LabelModel",
          "state": {
            "_dom_classes": [],
            "_model_module": "@jupyter-widgets/controls",
            "_model_module_version": "1.5.0",
            "_model_name": "LabelModel",
            "_view_count": null,
            "_view_module": "@jupyter-widgets/controls",
            "_view_module_version": "1.5.0",
            "_view_name": "LabelView",
            "description": "",
            "description_tooltip": null,
            "layout": "IPY_MODEL_d38950b8b4cf401a93b7b085874e4fc9",
            "placeholder": "​",
            "style": "IPY_MODEL_f2697bca5f5f4aec94c5e7a119aef7c4",
            "value": "16000 / 16000"
          }
        },
        "bb687c6408ee484aba295aeaaea43da2": {
          "model_module": "@jupyter-widgets/base",
          "model_module_version": "1.2.0",
          "model_name": "LayoutModel",
          "state": {
            "_model_module": "@jupyter-widgets/base",
            "_model_module_version": "1.2.0",
            "_model_name": "LayoutModel",
            "_view_count": null,
            "_view_module": "@jupyter-widgets/base",
            "_view_module_version": "1.2.0",
            "_view_name": "LayoutView",
            "align_content": null,
            "align_items": null,
            "align_self": null,
            "border": null,
            "bottom": null,
            "display": null,
            "flex": null,
            "flex_flow": null,
            "grid_area": null,
            "grid_auto_columns": null,
            "grid_auto_flow": null,
            "grid_auto_rows": null,
            "grid_column": null,
            "grid_gap": null,
            "grid_row": null,
            "grid_template_areas": null,
            "grid_template_columns": null,
            "grid_template_rows": null,
            "height": null,
            "justify_content": null,
            "justify_items": null,
            "left": null,
            "margin": null,
            "max_height": null,
            "max_width": null,
            "min_height": null,
            "min_width": null,
            "object_fit": null,
            "object_position": null,
            "order": null,
            "overflow": null,
            "overflow_x": null,
            "overflow_y": null,
            "padding": null,
            "right": null,
            "top": null,
            "visibility": null,
            "width": null
          }
        },
        "ca4d1ab4ad6443aeaae1f5abc375f6e7": {
          "model_module": "@jupyter-widgets/controls",
          "model_module_version": "1.5.0",
          "model_name": "LabelModel",
          "state": {
            "_dom_classes": [],
            "_model_module": "@jupyter-widgets/controls",
            "_model_module_version": "1.5.0",
            "_model_name": "LabelModel",
            "_view_count": null,
            "_view_module": "@jupyter-widgets/controls",
            "_view_module_version": "1.5.0",
            "_view_name": "LabelView",
            "description": "",
            "description_tooltip": null,
            "layout": "IPY_MODEL_8db7e649014a421ca430108f0ca28a8b",
            "placeholder": "​",
            "style": "IPY_MODEL_8f52802c44dd4003ac16bdb45c5139b8",
            "value": "2000 / 2000"
          }
        },
        "d38950b8b4cf401a93b7b085874e4fc9": {
          "model_module": "@jupyter-widgets/base",
          "model_module_version": "1.2.0",
          "model_name": "LayoutModel",
          "state": {
            "_model_module": "@jupyter-widgets/base",
            "_model_module_version": "1.2.0",
            "_model_name": "LayoutModel",
            "_view_count": null,
            "_view_module": "@jupyter-widgets/base",
            "_view_module_version": "1.2.0",
            "_view_name": "LayoutView",
            "align_content": null,
            "align_items": null,
            "align_self": null,
            "border": null,
            "bottom": null,
            "display": null,
            "flex": null,
            "flex_flow": null,
            "grid_area": null,
            "grid_auto_columns": null,
            "grid_auto_flow": null,
            "grid_auto_rows": null,
            "grid_column": null,
            "grid_gap": null,
            "grid_row": null,
            "grid_template_areas": null,
            "grid_template_columns": null,
            "grid_template_rows": null,
            "height": null,
            "justify_content": null,
            "justify_items": null,
            "left": null,
            "margin": null,
            "max_height": null,
            "max_width": null,
            "min_height": null,
            "min_width": null,
            "object_fit": null,
            "object_position": null,
            "order": null,
            "overflow": null,
            "overflow_x": null,
            "overflow_y": null,
            "padding": null,
            "right": null,
            "top": null,
            "visibility": null,
            "width": null
          }
        },
        "d4d0d7cceeb74eb7917339bac4b20044": {
          "model_module": "@jupyter-widgets/controls",
          "model_module_version": "1.5.0",
          "model_name": "ProgressStyleModel",
          "state": {
            "_model_module": "@jupyter-widgets/controls",
            "_model_module_version": "1.5.0",
            "_model_name": "ProgressStyleModel",
            "_view_count": null,
            "_view_module": "@jupyter-widgets/base",
            "_view_module_version": "1.2.0",
            "_view_name": "StyleView",
            "bar_color": null,
            "description_width": ""
          }
        },
        "d7ecac9c492a4af9b260b942e65bed76": {
          "model_module": "@jupyter-widgets/controls",
          "model_module_version": "1.5.0",
          "model_name": "IntProgressModel",
          "state": {
            "_dom_classes": [],
            "_model_module": "@jupyter-widgets/controls",
            "_model_module_version": "1.5.0",
            "_model_name": "IntProgressModel",
            "_view_count": null,
            "_view_module": "@jupyter-widgets/controls",
            "_view_module_version": "1.5.0",
            "_view_name": "ProgressView",
            "bar_style": "success",
            "description": "100.00%",
            "description_tooltip": null,
            "layout": "IPY_MODEL_e69f0c7415b042c7b3560be22bbe3a6c",
            "max": 2000,
            "min": 0,
            "orientation": "horizontal",
            "style": "IPY_MODEL_619200dfa1504755b7b2fbf506f25744",
            "value": 2000
          }
        },
        "e69f0c7415b042c7b3560be22bbe3a6c": {
          "model_module": "@jupyter-widgets/base",
          "model_module_version": "1.2.0",
          "model_name": "LayoutModel",
          "state": {
            "_model_module": "@jupyter-widgets/base",
            "_model_module_version": "1.2.0",
            "_model_name": "LayoutModel",
            "_view_count": null,
            "_view_module": "@jupyter-widgets/base",
            "_view_module_version": "1.2.0",
            "_view_name": "LayoutView",
            "align_content": null,
            "align_items": null,
            "align_self": null,
            "border": null,
            "bottom": null,
            "display": null,
            "flex": null,
            "flex_flow": null,
            "grid_area": null,
            "grid_auto_columns": null,
            "grid_auto_flow": null,
            "grid_auto_rows": null,
            "grid_column": null,
            "grid_gap": null,
            "grid_row": null,
            "grid_template_areas": null,
            "grid_template_columns": null,
            "grid_template_rows": null,
            "height": null,
            "justify_content": null,
            "justify_items": null,
            "left": null,
            "margin": null,
            "max_height": null,
            "max_width": null,
            "min_height": null,
            "min_width": null,
            "object_fit": null,
            "object_position": null,
            "order": null,
            "overflow": null,
            "overflow_x": null,
            "overflow_y": null,
            "padding": null,
            "right": null,
            "top": null,
            "visibility": null,
            "width": null
          }
        },
        "f1144abe1e8341dfa085017dc9507d94": {
          "model_module": "@jupyter-widgets/controls",
          "model_module_version": "1.5.0",
          "model_name": "VBoxModel",
          "state": {
            "_dom_classes": [],
            "_model_module": "@jupyter-widgets/controls",
            "_model_module_version": "1.5.0",
            "_model_name": "VBoxModel",
            "_view_count": null,
            "_view_module": "@jupyter-widgets/controls",
            "_view_module_version": "1.5.0",
            "_view_name": "VBoxView",
            "box_style": "",
            "children": [
              "IPY_MODEL_93720f39e084469597aa6a2caaa37ada"
            ],
            "layout": "IPY_MODEL_5c236d4a890c4ab6a79c327f8f0ab01b"
          }
        },
        "f2697bca5f5f4aec94c5e7a119aef7c4": {
          "model_module": "@jupyter-widgets/controls",
          "model_module_version": "1.5.0",
          "model_name": "DescriptionStyleModel",
          "state": {
            "_model_module": "@jupyter-widgets/controls",
            "_model_module_version": "1.5.0",
            "_model_name": "DescriptionStyleModel",
            "_view_count": null,
            "_view_module": "@jupyter-widgets/base",
            "_view_module_version": "1.2.0",
            "_view_name": "StyleView",
            "description_width": ""
          }
        }
      }
    }
  },
  "nbformat": 4,
  "nbformat_minor": 0
}
